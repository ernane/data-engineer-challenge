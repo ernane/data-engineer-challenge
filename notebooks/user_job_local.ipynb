{
 "cells": [
  {
   "cell_type": "markdown",
   "id": "3cf9f643-ab56-4d16-9228-e5da5b610801",
   "metadata": {},
   "source": [
    "# Imports e Constantes"
   ]
  },
  {
   "cell_type": "code",
   "execution_count": 1,
   "id": "ef150a82-4ad0-414f-b4cd-ef363a4f8ee0",
   "metadata": {},
   "outputs": [],
   "source": [
    "import json\n",
    "\n",
    "from pyspark.sql import SparkSession, Window\n",
    "from pyspark.sql.functions import col, dense_rank, rank\n",
    "from pyspark.sql.types import IntegerType, StringType, StructField, StructType, TimestampType\n",
    "\n",
    "TYPES_MAPPING = \"../config/types_mapping.json\"\n",
    "INPUT_PATH = \"../data/input/users/load.csv\"\n",
    "OUTPUT_PATH = \"../data/output/users/users.parquet\"\n",
    "DEDUPLICATED_PATH = \"../data/output/users/deduplicated.parquet\""
   ]
  },
  {
   "cell_type": "markdown",
   "id": "f45ed098-0cc8-476e-b423-6de984566dd7",
   "metadata": {},
   "source": [
    "# Conversão de Tipos"
   ]
  },
  {
   "cell_type": "code",
   "execution_count": 2,
   "id": "7e8f9ccb-4d72-4606-b179-f271bfdf3083",
   "metadata": {},
   "outputs": [],
   "source": [
    "def str_to_dtypes(type: str):\n",
    "    \"\"\"Responsavel por converter para pyspark types\"\"\"\n",
    "    \n",
    "    data = { \"integer\": IntegerType(), \"timestamp\": TimestampType()}    \n",
    "    try:\n",
    "        return data[type]\n",
    "    except KeyError:        \n",
    "        return StringType()"
   ]
  },
  {
   "cell_type": "markdown",
   "id": "4068bb52-d670-4efc-a3f1-a22e8c7e4578",
   "metadata": {},
   "source": [
    "# Spark Session"
   ]
  },
  {
   "cell_type": "code",
   "execution_count": 3,
   "id": "7a44b91f-912e-47c4-8798-13e1bf358eb4",
   "metadata": {},
   "outputs": [],
   "source": [
    "spark = SparkSession.\\\n",
    "        builder.\\\n",
    "        appName(\"pyspark-notebook\").\\\n",
    "        getOrCreate()"
   ]
  },
  {
   "cell_type": "markdown",
   "id": "993c1cce-40e9-4849-8b6a-4a8657ad8133",
   "metadata": {},
   "source": [
    "# Criação de Schema. (types_mapping.json)"
   ]
  },
  {
   "cell_type": "code",
   "execution_count": 4,
   "id": "6726005c-005f-4029-bfad-02a6a44f010a",
   "metadata": {},
   "outputs": [
    {
     "data": {
      "text/plain": [
       "'struct<id:int,name:string,email:string,phone:string,address:string,age:int,create_date:timestamp,update_date:timestamp>'"
      ]
     },
     "execution_count": 4,
     "metadata": {},
     "output_type": "execute_result"
    }
   ],
   "source": [
    "with open(TYPES_MAPPING) as f:\n",
    "    data = json.load(f)\n",
    "    \n",
    "schema = StructType([\n",
    "    StructField(\"id\", IntegerType(), True), \n",
    "    StructField(\"name\", StringType(), True),\n",
    "    StructField(\"email\", StringType(), True),\n",
    "    StructField(\"phone\", StringType(), True),\n",
    "    StructField(\"address\", StringType(), True),\n",
    "    StructField(\"age\", str_to_dtypes(data[\"age\"]), True),\n",
    "    StructField(\"create_date\", str_to_dtypes(data[\"create_date\"]), True),\n",
    "    StructField(\"update_date\", str_to_dtypes(data[\"update_date\"]), True)\n",
    "])\n",
    "\n",
    "schema.simpleString()"
   ]
  },
  {
   "cell_type": "markdown",
   "id": "321c26b7-9324-493b-8acf-8545f6f59041",
   "metadata": {},
   "source": [
    "# Criação do DataFrame com Schema"
   ]
  },
  {
   "cell_type": "code",
   "execution_count": 5,
   "id": "d7a55feb-5556-4852-adb8-dd4e85ab6aee",
   "metadata": {},
   "outputs": [],
   "source": [
    "df_raw = spark.read.option(\"header\",\"true\").schema(schema).csv(INPUT_PATH)"
   ]
  },
  {
   "cell_type": "code",
   "execution_count": 6,
   "id": "8c53df2b-b67e-4688-9ab1-8edb937f5787",
   "metadata": {},
   "outputs": [
    {
     "name": "stdout",
     "output_type": "stream",
     "text": [
      "root\n",
      " |-- id: integer (nullable = true)\n",
      " |-- name: string (nullable = true)\n",
      " |-- email: string (nullable = true)\n",
      " |-- phone: string (nullable = true)\n",
      " |-- address: string (nullable = true)\n",
      " |-- age: integer (nullable = true)\n",
      " |-- create_date: timestamp (nullable = true)\n",
      " |-- update_date: timestamp (nullable = true)\n",
      "\n"
     ]
    }
   ],
   "source": [
    "df_raw.printSchema()"
   ]
  },
  {
   "cell_type": "markdown",
   "id": "3a1f6ac1-bad1-4636-af0a-2e630e727ddd",
   "metadata": {},
   "source": [
    "# Deduplicação dos dados"
   ]
  },
  {
   "cell_type": "code",
   "execution_count": 7,
   "id": "4e693f54-5021-4a42-a9cb-d1de0373ecd1",
   "metadata": {},
   "outputs": [
    {
     "name": "stdout",
     "output_type": "stream",
     "text": [
      "+---+----------------------------------+---------------------+---------------+----------------------------------------------+---+--------------------------+--------------------------+----+\n",
      "|id |name                              |email                |phone          |address                                       |age|create_date               |update_date               |rank|\n",
      "+---+----------------------------------+---------------------+---------------+----------------------------------------------+---+--------------------------+--------------------------+----+\n",
      "|1  |david.lynch@cognitivo.ai          |David Lynch          |(11) 99999-9999|Mulholland Drive, Los Angeles, CA, US         |72 |2018-03-03 18:47:01.954752|2018-05-23 10:13:59.594752|1   |\n",
      "|1  |david.lynch@cognitivo.ai          |David Lynch          |(11) 99999-9998|Mulholland Drive, Los Angeles, CA, US         |72 |2018-03-03 18:47:01.954752|2018-04-14 17:09:48.558151|2   |\n",
      "|1  |david.lynch@cognitivo.ai          |David Lynch          |(11) 99999-9997|Mulholland Drive, Los Angeles, CA, US         |72 |2018-03-03 18:47:01.954752|2018-03-03 18:47:01.954752|3   |\n",
      "|3  |spongebob.squarepants@cognitivo.ai|Spongebob Squarepants|(11) 98765-4321|122 Conch Street, Bikini Bottom, Pacific Ocean|13 |2018-05-19 04:07:06.854752|2018-05-19 05:08:07.964752|1   |\n",
      "|3  |spongebob.squarepants@cognitivo.ai|Spongebob Squarepants|(11) 91234-5678|124 Conch Street, Bikini Bottom, Pacific Ocean|13 |2018-05-19 04:07:06.854752|2018-05-19 04:07:06.854752|2   |\n",
      "|2  |sherlock.holmes@cognitivo.ai      |Sherlock Holmes      |(11) 94815-1623|221B Baker Street, London, UK                 |34 |2018-04-21 20:21:24.364752|2018-04-21 20:21:24.364752|1   |\n",
      "+---+----------------------------------+---------------------+---------------+----------------------------------------------+---+--------------------------+--------------------------+----+\n",
      "\n"
     ]
    }
   ],
   "source": [
    "window = Window.partitionBy(\"id\").orderBy(col(\"update_date\").desc())\n",
    "df_raw.withColumn(\"rank\", rank().over(window)).show(truncate=False)"
   ]
  },
  {
   "cell_type": "markdown",
   "id": "d634c2a0-7217-4e28-bb04-c3a48498e79e",
   "metadata": {},
   "source": [
    "# DataFrame de dados Deduplicados"
   ]
  },
  {
   "cell_type": "code",
   "execution_count": 8,
   "id": "382de45c-2993-4d21-812a-c2a86ec2c7bd",
   "metadata": {},
   "outputs": [],
   "source": [
    "df_deduplicated = df_raw.withColumn(\"rank\",rank().over(window)).where(col(\"rank\") != 1)"
   ]
  },
  {
   "cell_type": "markdown",
   "id": "69555cfd-c03f-4925-895d-67baf0ff68bb",
   "metadata": {},
   "source": [
    "# DataFrame de dados sem Deduplicação"
   ]
  },
  {
   "cell_type": "code",
   "execution_count": 9,
   "id": "26647913-c47d-481a-8ad4-634430491f36",
   "metadata": {},
   "outputs": [],
   "source": [
    "df_no_deduplicated = df_raw.withColumn(\"rank\",rank().over(window)).where(col(\"rank\") == 1)"
   ]
  },
  {
   "cell_type": "markdown",
   "id": "7335e9b2-c1da-4fa9-b36f-330642a79955",
   "metadata": {},
   "source": [
    "# Salvando arquivos em formato Parquet"
   ]
  },
  {
   "cell_type": "code",
   "execution_count": 10,
   "id": "38aa39d6-e944-4f65-8630-8dadd7ac811c",
   "metadata": {},
   "outputs": [
    {
     "name": "stderr",
     "output_type": "stream",
     "text": [
      "                                                                                \r"
     ]
    }
   ],
   "source": [
    "df_deduplicated = df_deduplicated.drop(\"rank\").write.mode(\"overwrite\").parquet(DEDUPLICATED_PATH)\n",
    "df_no_deduplicated = df_no_deduplicated.drop(\"rank\").write.mode(\"overwrite\").parquet(OUTPUT_PATH)"
   ]
  },
  {
   "cell_type": "code",
   "execution_count": 11,
   "id": "ed6048fc-43b6-4018-a2ad-255d9e501a40",
   "metadata": {},
   "outputs": [],
   "source": [
    "df_deduplicated_parquet = spark.read.parquet(DEDUPLICATED_PATH)\n",
    "df_no_deduplicated_parquet = spark.read.parquet(OUTPUT_PATH)"
   ]
  },
  {
   "cell_type": "code",
   "execution_count": 12,
   "id": "4f676f4e-3fee-4e4d-9718-9cb4cabac805",
   "metadata": {},
   "outputs": [
    {
     "name": "stdout",
     "output_type": "stream",
     "text": [
      "+---+----------------------------------+---------------------+---------------+----------------------------------------------+---+--------------------------+--------------------------+\n",
      "|id |name                              |email                |phone          |address                                       |age|create_date               |update_date               |\n",
      "+---+----------------------------------+---------------------+---------------+----------------------------------------------+---+--------------------------+--------------------------+\n",
      "|3  |spongebob.squarepants@cognitivo.ai|Spongebob Squarepants|(11) 91234-5678|124 Conch Street, Bikini Bottom, Pacific Ocean|13 |2018-05-19 04:07:06.854752|2018-05-19 04:07:06.854752|\n",
      "|1  |david.lynch@cognitivo.ai          |David Lynch          |(11) 99999-9998|Mulholland Drive, Los Angeles, CA, US         |72 |2018-03-03 18:47:01.954752|2018-04-14 17:09:48.558151|\n",
      "|1  |david.lynch@cognitivo.ai          |David Lynch          |(11) 99999-9997|Mulholland Drive, Los Angeles, CA, US         |72 |2018-03-03 18:47:01.954752|2018-03-03 18:47:01.954752|\n",
      "+---+----------------------------------+---------------------+---------------+----------------------------------------------+---+--------------------------+--------------------------+\n",
      "\n"
     ]
    }
   ],
   "source": [
    "df_deduplicated_parquet.show(truncate=False)"
   ]
  },
  {
   "cell_type": "code",
   "execution_count": 13,
   "id": "1208f755-519e-484c-9e72-4239f36a34ba",
   "metadata": {},
   "outputs": [
    {
     "name": "stdout",
     "output_type": "stream",
     "text": [
      "+---+----------------------------------+---------------------+---------------+----------------------------------------------+---+--------------------------+--------------------------+\n",
      "|id |name                              |email                |phone          |address                                       |age|create_date               |update_date               |\n",
      "+---+----------------------------------+---------------------+---------------+----------------------------------------------+---+--------------------------+--------------------------+\n",
      "|3  |spongebob.squarepants@cognitivo.ai|Spongebob Squarepants|(11) 98765-4321|122 Conch Street, Bikini Bottom, Pacific Ocean|13 |2018-05-19 04:07:06.854752|2018-05-19 05:08:07.964752|\n",
      "|2  |sherlock.holmes@cognitivo.ai      |Sherlock Holmes      |(11) 94815-1623|221B Baker Street, London, UK                 |34 |2018-04-21 20:21:24.364752|2018-04-21 20:21:24.364752|\n",
      "|1  |david.lynch@cognitivo.ai          |David Lynch          |(11) 99999-9999|Mulholland Drive, Los Angeles, CA, US         |72 |2018-03-03 18:47:01.954752|2018-05-23 10:13:59.594752|\n",
      "+---+----------------------------------+---------------------+---------------+----------------------------------------------+---+--------------------------+--------------------------+\n",
      "\n"
     ]
    }
   ],
   "source": [
    "df_no_deduplicated_parquet.show(truncate=False)"
   ]
  },
  {
   "cell_type": "code",
   "execution_count": null,
   "id": "e677a1c2-529d-450b-a9c2-a849e5738141",
   "metadata": {},
   "outputs": [],
   "source": []
  }
 ],
 "metadata": {
  "kernelspec": {
   "display_name": "Python 3 (ipykernel)",
   "language": "python",
   "name": "python3"
  },
  "language_info": {
   "codemirror_mode": {
    "name": "ipython",
    "version": 3
   },
   "file_extension": ".py",
   "mimetype": "text/x-python",
   "name": "python",
   "nbconvert_exporter": "python",
   "pygments_lexer": "ipython3",
   "version": "3.9.6"
  }
 },
 "nbformat": 4,
 "nbformat_minor": 5
}
